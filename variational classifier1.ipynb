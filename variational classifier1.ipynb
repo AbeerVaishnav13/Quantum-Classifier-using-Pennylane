{
 "cells": [
  {
   "cell_type": "markdown",
   "metadata": {},
   "source": [
    "# Variational Classifier"
   ]
  },
  {
   "cell_type": "code",
   "execution_count": 25,
   "metadata": {},
   "outputs": [
    {
     "name": "stderr",
     "output_type": "stream",
     "text": [
      "WARNING:qiskit.providers.ibmq.ibmqfactory:Credentials are already in use. The existing account in the session will be replaced.\n"
     ]
    },
    {
     "data": {
      "text/plain": [
       "<AccountProvider for IBMQ(hub='ibm-q', group='open', project='main')>"
      ]
     },
     "execution_count": 25,
     "metadata": {},
     "output_type": "execute_result"
    }
   ],
   "source": [
    "import pennylane as qml\n",
    "from pennylane import numpy as np\n",
    "from pennylane.optimize import NesterovMomentumOptimizer\n",
    "import qiskit\n",
    "from qiskit.providers.aer.noise import NoiseModel\n",
    "from qiskit import IBMQ\n",
    "\n",
    "IBMQ.load_account()"
   ]
  },
  {
   "cell_type": "code",
   "execution_count": 26,
   "metadata": {},
   "outputs": [],
   "source": [
    "provider = IBMQ.get_provider(hub='ibm-q', group='open')\n",
    "device = provider.get_backend('ibmq_ourense')\n",
    "noise_model = NoiseModel.from_backend(device.properties())\n",
    "\n",
    "dev = qml.device('qiskit.aer', backend='qasm_simulator', wires=4, noise_model=noise_model)"
   ]
  },
  {
   "cell_type": "markdown",
   "metadata": {},
   "source": [
    "## Building up the model"
   ]
  },
  {
   "cell_type": "markdown",
   "metadata": {},
   "source": [
    "### Setting up the layers"
   ]
  },
  {
   "cell_type": "code",
   "execution_count": 27,
   "metadata": {},
   "outputs": [],
   "source": [
    "def layer(W):\n",
    "    qml.Rot(W[0, 0], W[0, 1], W[0, 2], wires=0)\n",
    "    qml.Rot(W[1, 0], W[1, 1], W[1, 2], wires=1)\n",
    "    qml.Rot(W[2, 0], W[2, 1], W[2, 2], wires=2)\n",
    "    qml.Rot(W[3, 0], W[3, 1], W[3, 2], wires=3)\n",
    "    \n",
    "    qml.CNOT(wires=[0, 1])\n",
    "    qml.CNOT(wires=[1, 2])\n",
    "    qml.CNOT(wires=[2, 3])\n",
    "    qml.CNOT(wires=[3, 0])"
   ]
  },
  {
   "cell_type": "code",
   "execution_count": 28,
   "metadata": {},
   "outputs": [],
   "source": [
    "def statePreparation(x):\n",
    "    qml.BasisState(x, wires=[0, 1, 2, 3])"
   ]
  },
  {
   "cell_type": "markdown",
   "metadata": {},
   "source": [
    "### Define the quantum circuit"
   ]
  },
  {
   "cell_type": "code",
   "execution_count": 29,
   "metadata": {},
   "outputs": [],
   "source": [
    "@qml.qnode(dev)\n",
    "def circuit(weights, x=None):\n",
    "    statePreparation(x)\n",
    "    for W in weights:\n",
    "        layer(W)\n",
    "        \n",
    "    return qml.expval(qml.PauliZ(0))"
   ]
  },
  {
   "cell_type": "code",
   "execution_count": 30,
   "metadata": {},
   "outputs": [],
   "source": [
    "def variational_classifier(var, x=None):\n",
    "    weights = var[0]\n",
    "    bias = var[1]\n",
    "    return circuit(weights, x=x) + bias"
   ]
  },
  {
   "cell_type": "markdown",
   "metadata": {},
   "source": [
    "### Cost functions"
   ]
  },
  {
   "cell_type": "code",
   "execution_count": 31,
   "metadata": {},
   "outputs": [],
   "source": [
    "def square_loss(labels, predictions):\n",
    "    loss = 0\n",
    "    for l, p in zip(labels, predictions):\n",
    "        loss += ((l - p)**2)\n",
    "        \n",
    "    loss /= len(labels)\n",
    "    return loss"
   ]
  },
  {
   "cell_type": "code",
   "execution_count": 32,
   "metadata": {},
   "outputs": [],
   "source": [
    "def accuracy(labels, predictions):\n",
    "    loss = 0\n",
    "    for l, p in zip(labels, predictions):\n",
    "        if abs(l - p) < 1e-5:\n",
    "            loss += 1\n",
    "            \n",
    "    loss /= len(labels)\n",
    "    return loss"
   ]
  },
  {
   "cell_type": "code",
   "execution_count": 33,
   "metadata": {},
   "outputs": [],
   "source": [
    "def cost(var, X, Y):\n",
    "    predictions = [variational_classifier(var, x=x) for x in X]\n",
    "    return square_loss(Y, predictions)"
   ]
  },
  {
   "cell_type": "markdown",
   "metadata": {},
   "source": [
    "## Optimization"
   ]
  },
  {
   "cell_type": "code",
   "execution_count": 34,
   "metadata": {},
   "outputs": [
    {
     "name": "stdout",
     "output_type": "stream",
     "text": [
      "X = [0. 0. 0. 0.], Y = -1\n",
      "X = [0. 0. 0. 1.], Y = 1\n",
      "X = [0. 0. 1. 0.], Y = 1\n",
      "X = [0. 0. 1. 1.], Y = -1\n",
      "X = [0. 1. 0. 0.], Y = 1\n"
     ]
    }
   ],
   "source": [
    "data = np.loadtxt('parity.txt')\n",
    "X = data[:, :-1]\n",
    "Y = data[:, -1]\n",
    "Y = Y * 2 - np.ones(len(Y))\n",
    "\n",
    "for i in range(5):\n",
    "    print(f'X = {X[i]}, Y = {int(Y[i])}')"
   ]
  },
  {
   "cell_type": "code",
   "execution_count": 35,
   "metadata": {},
   "outputs": [
    {
     "name": "stdout",
     "output_type": "stream",
     "text": [
      "(array([[[ 0.01764052,  0.00400157,  0.00978738],\n",
      "        [ 0.02240893,  0.01867558, -0.00977278],\n",
      "        [ 0.00950088, -0.00151357, -0.00103219],\n",
      "        [ 0.00410599,  0.00144044,  0.01454274]],\n",
      "\n",
      "       [[ 0.00761038,  0.00121675,  0.00443863],\n",
      "        [ 0.00333674,  0.01494079, -0.00205158],\n",
      "        [ 0.00313068, -0.00854096, -0.0255299 ],\n",
      "        [ 0.00653619,  0.00864436, -0.00742165]]]), 0.0)\n"
     ]
    }
   ],
   "source": [
    "np.random.seed(0)\n",
    "num_qubits = 4\n",
    "num_layers = 2\n",
    "var_init = (0.01 * np.random.randn(num_layers, num_qubits, 3), 0.0)\n",
    "\n",
    "print(var_init)"
   ]
  },
  {
   "cell_type": "code",
   "execution_count": 36,
   "metadata": {},
   "outputs": [],
   "source": [
    "opt = NesterovMomentumOptimizer(0.5)\n",
    "batch_size = 5"
   ]
  },
  {
   "cell_type": "code",
   "execution_count": 37,
   "metadata": {},
   "outputs": [
    {
     "name": "stdout",
     "output_type": "stream",
     "text": [
      "Iter:     1 | Cost: 3.2123858 | Accuracy: 0.5000000 \n",
      "Iter:     2 | Cost: 1.7413375 | Accuracy: 0.5000000 \n",
      "Iter:     3 | Cost: 1.5585726 | Accuracy: 0.5000000 \n",
      "Iter:     4 | Cost: 1.1304681 | Accuracy: 0.5000000 \n",
      "Iter:     5 | Cost: 0.9638177 | Accuracy: 0.6250000 \n",
      "Iter:     6 | Cost: 1.2072096 | Accuracy: 0.5000000 \n",
      "Iter:     7 | Cost: 1.0231512 | Accuracy: 0.5000000 \n",
      "Iter:     8 | Cost: 1.0268359 | Accuracy: 0.5000000 \n",
      "Iter:     9 | Cost: 1.0293251 | Accuracy: 0.5000000 \n",
      "Iter:    10 | Cost: 0.9905479 | Accuracy: 0.5625000 \n",
      "Iter:    11 | Cost: 0.9200014 | Accuracy: 0.6250000 \n",
      "Iter:    12 | Cost: 0.6923787 | Accuracy: 0.8750000 \n",
      "Iter:    13 | Cost: 0.6330797 | Accuracy: 0.6875000 \n",
      "Iter:    14 | Cost: 0.3107374 | Accuracy: 1.0000000 \n",
      "Iter:    15 | Cost: 0.3100047 | Accuracy: 0.9375000 \n",
      "Iter:    16 | Cost: 0.1341340 | Accuracy: 1.0000000 \n",
      "Iter:    17 | Cost: 0.2092206 | Accuracy: 1.0000000 \n",
      "Iter:    18 | Cost: 0.0594971 | Accuracy: 1.0000000 \n",
      "Iter:    19 | Cost: 0.0480847 | Accuracy: 1.0000000 \n",
      "Iter:    20 | Cost: 0.0366226 | Accuracy: 1.0000000 \n",
      "Iter:    21 | Cost: 0.0216074 | Accuracy: 1.0000000 \n",
      "Iter:    22 | Cost: 0.0348295 | Accuracy: 1.0000000 \n",
      "Iter:    23 | Cost: 0.0140727 | Accuracy: 1.0000000 \n",
      "Iter:    24 | Cost: 0.0186527 | Accuracy: 1.0000000 \n",
      "Iter:    25 | Cost: 0.0237124 | Accuracy: 1.0000000 \n"
     ]
    }
   ],
   "source": [
    "var = var_init\n",
    "for it in range(25):\n",
    "    batch_index = np.random.randint(0, len(X), (batch_size,))\n",
    "    X_batch = X[batch_index]\n",
    "    Y_batch = Y[batch_index]\n",
    "    var = opt.step(lambda v: cost(v, X_batch, Y_batch), var)\n",
    "    \n",
    "    predictions = [np.sign(variational_classifier(var, x=x)) for x in X]\n",
    "    acc = accuracy(Y, predictions)\n",
    "    \n",
    "    print(\"Iter: {:5d} | Cost: {:0.7f} | Accuracy: {:0.7f} \".format(it + 1, cost(var, X, Y), acc))"
   ]
  }
 ],
 "metadata": {
  "kernelspec": {
   "display_name": "Python 3",
   "language": "python",
   "name": "python3"
  },
  "language_info": {
   "codemirror_mode": {
    "name": "ipython",
    "version": 3
   },
   "file_extension": ".py",
   "mimetype": "text/x-python",
   "name": "python",
   "nbconvert_exporter": "python",
   "pygments_lexer": "ipython3",
   "version": "3.7.6"
  }
 },
 "nbformat": 4,
 "nbformat_minor": 4
}
