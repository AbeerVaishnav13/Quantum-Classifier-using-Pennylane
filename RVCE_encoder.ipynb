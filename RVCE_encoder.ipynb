{
 "cells": [
  {
   "cell_type": "code",
   "execution_count": 15,
   "metadata": {},
   "outputs": [],
   "source": [
    "from qiskit import *\n",
    "from qiskit import IBMQ\n",
    "from qiskit.tools.monitor import job_monitor\n",
    "%matplotlib inline\n",
    "from matplotlib import style\n",
    "import numpy as np\n",
    "\n",
    "from qiskit.quantum_info.states import statevector\n",
    "\n",
    "style.use('bmh')\n",
    "style.use('dark_background')"
   ]
  },
  {
   "cell_type": "code",
   "execution_count": 12,
   "metadata": {},
   "outputs": [],
   "source": [
    "def get_angles(x):\n",
    "    beta0 = 2 * np.arcsin(np.sqrt(x[1] ** 2) / np.sqrt(x[0] ** 2 + x[1] ** 2 + 1e-12))\n",
    "    beta1 = 2 * np.arcsin(np.sqrt(x[3] ** 2) / np.sqrt(x[2] ** 2 + x[3] ** 2 + 1e-12))\n",
    "    beta2 = 2 * np.arcsin(np.sqrt(x[2] ** 2 + x[3] ** 2) / np.sqrt(x[0] ** 2 + x[1] ** 2 + x[2] ** 2 + x[3] ** 2))\n",
    "    \n",
    "#     print(beta0, beta1, beta2)\n",
    "    \n",
    "    return np.array([beta2, -beta1/2, beta1/2, -beta0/2, beta0/2])"
   ]
  },
  {
   "cell_type": "code",
   "execution_count": 21,
   "metadata": {},
   "outputs": [],
   "source": [
    "def make_circuit(qr, angles):\n",
    "    qc = QuantumCircuit(qr, ClassicalRegister(2))\n",
    "    \n",
    "    qc.ry(angles[0], 0)\n",
    "    \n",
    "    qc.ry(angles[1], 1)\n",
    "    qc.cx(0, 1)\n",
    "    qc.ry(angles[2], 1)\n",
    "    qc.cx(0, 1)\n",
    "    \n",
    "    qc.x(0)\n",
    "    qc.ry(angles[1], 1)\n",
    "    qc.cx(0, 1)\n",
    "    qc.ry(angles[2], 1)\n",
    "    qc.cx(0, 1)\n",
    "    qc.x(0)\n",
    "    \n",
    "    return qc"
   ]
  },
  {
   "cell_type": "code",
   "execution_count": 22,
   "metadata": {},
   "outputs": [],
   "source": [
    "qr = QuantumRegister(2)\n",
    "qc = make_circuit(qr, get_angles([0.53896774, 0.79503606, 0.27826503, 0.0]))\n",
    "\n"
   ]
  },
  {
   "cell_type": "code",
   "execution_count": null,
   "metadata": {},
   "outputs": [],
   "source": []
  }
 ],
 "metadata": {
  "kernelspec": {
   "display_name": "Python 3",
   "language": "python",
   "name": "python3"
  },
  "language_info": {
   "codemirror_mode": {
    "name": "ipython",
    "version": 3
   },
   "file_extension": ".py",
   "mimetype": "text/x-python",
   "name": "python",
   "nbconvert_exporter": "python",
   "pygments_lexer": "ipython3",
   "version": "3.7.6"
  }
 },
 "nbformat": 4,
 "nbformat_minor": 4
}
